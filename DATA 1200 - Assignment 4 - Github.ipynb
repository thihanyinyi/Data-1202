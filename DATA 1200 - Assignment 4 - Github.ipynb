{
 "cells": [
  {
   "cell_type": "code",
   "execution_count": 5,
   "id": "e577d2e8-0988-4f9f-84a4-2e083fa60ce6",
   "metadata": {},
   "outputs": [],
   "source": [
    "#Load Libraries\n",
    "import pandas as pd\n",
    "import numpy as np\n",
    "import matplotlib.pyplot as plt\n",
    "%matplotlib inline"
   ]
  },
  {
   "cell_type": "code",
   "execution_count": 7,
   "id": "688442ee-9288-4a5e-a653-7bb19b94607f",
   "metadata": {},
   "outputs": [],
   "source": [
    "# Define the file path\n",
    "file_path = r'C:\\Users\\USER\\Desktop\\Work in Progress\\Data 1200 Introduction to Data Analysis\\Assignment 3\\drugdataset.csv'"
   ]
  },
  {
   "cell_type": "code",
   "execution_count": 9,
   "id": "51b8b8cc-decf-4fff-913d-148ca19b5b8f",
   "metadata": {},
   "outputs": [],
   "source": [
    "# Load the dataset\n",
    "df = pd.read_csv(file_path)"
   ]
  },
  {
   "cell_type": "code",
   "execution_count": 11,
   "id": "890e924b-9adc-4e82-a7a9-d63aecb7a80b",
   "metadata": {},
   "outputs": [
    {
     "name": "stdout",
     "output_type": "stream",
     "text": [
      "   Age  Sex  BP  Cholesterol  Na_to_K   Drug\n",
      "0   23    1   2            1   25.355  drugY\n",
      "1   47    0   1            1   13.093  drugC\n",
      "2   47    0   1            1   10.114  drugC\n",
      "3   28    1   0            1    7.798  drugX\n",
      "4   61    1   1            1   18.043  drugY\n"
     ]
    }
   ],
   "source": [
    "# Display the first few rows of the dataset\n",
    "print(df.head())"
   ]
  },
  {
   "cell_type": "code",
   "execution_count": 13,
   "id": "066c8d64-cdfb-44ea-8251-5f874df42f38",
   "metadata": {},
   "outputs": [
    {
     "name": "stdout",
     "output_type": "stream",
     "text": [
      "Index(['Age', 'Sex', 'BP', 'Cholesterol', 'Na_to_K', 'Drug'], dtype='object')\n"
     ]
    }
   ],
   "source": [
    "# Display the column names\n",
    "print(df.columns)"
   ]
  },
  {
   "cell_type": "code",
   "execution_count": 15,
   "id": "1fb337ec-9c33-4076-b5bb-6aa49be50531",
   "metadata": {},
   "outputs": [
    {
     "data": {
      "text/plain": [
       "array(['drugY', 'drugC', 'drugX', 'drugA', 'drugB'], dtype=object)"
      ]
     },
     "execution_count": 15,
     "metadata": {},
     "output_type": "execute_result"
    }
   ],
   "source": [
    "#Identify number of Classes (i.e. Species)\n",
    "df.Drug.unique()"
   ]
  },
  {
   "cell_type": "code",
   "execution_count": 17,
   "id": "f9b2955d-280e-490d-9b3a-e8f7b6b6df87",
   "metadata": {},
   "outputs": [],
   "source": [
    "#Create x and y variables\n",
    "X = df.drop('Drug',axis=1).to_numpy()\n",
    "y = df['Drug'].to_numpy()"
   ]
  },
  {
   "cell_type": "code",
   "execution_count": 19,
   "id": "9e2239cb-1129-42ea-96df-ebb575ba2426",
   "metadata": {},
   "outputs": [],
   "source": [
    "#Create Train and Test datasets\n",
    "from sklearn.model_selection import train_test_split  \n",
    "X_train, X_test, y_train, y_test = train_test_split(X, y, stratify=y,test_size = 0.20,random_state=100)"
   ]
  },
  {
   "cell_type": "code",
   "execution_count": 21,
   "id": "43baaf45-31d0-4871-95d3-83647b063da7",
   "metadata": {},
   "outputs": [],
   "source": [
    "#Scale the data\n",
    "from sklearn.preprocessing import StandardScaler  \n",
    "sc = StandardScaler()  \n",
    "x_train2 = sc.fit_transform(X_train)\n",
    "x_test2 = sc.transform(X_test)"
   ]
  },
  {
   "cell_type": "code",
   "execution_count": 23,
   "id": "8f1fac69-a887-44b6-ab92-1e4131262555",
   "metadata": {},
   "outputs": [
    {
     "name": "stdout",
     "output_type": "stream",
     "text": [
      "\n",
      "Estimator: SVM\n",
      "[[ 5  0  0  0  0]\n",
      " [ 0  2  0  0  1]\n",
      " [ 0  0  3  0  0]\n",
      " [ 0  0  0 11  0]\n",
      " [ 0  0  0  1 17]]\n",
      "              precision    recall  f1-score   support\n",
      "\n",
      "       drugY       1.00      1.00      1.00         5\n",
      "       drugC       1.00      0.67      0.80         3\n",
      "       drugX       1.00      1.00      1.00         3\n",
      "       drugA       0.92      1.00      0.96        11\n",
      "       drugB       0.94      0.94      0.94        18\n",
      "\n",
      "    accuracy                           0.95        40\n",
      "   macro avg       0.97      0.92      0.94        40\n",
      "weighted avg       0.95      0.95      0.95        40\n",
      "\n",
      "\n",
      "Estimator: Naive Bayes\n",
      "[[ 5  0  0  0  0]\n",
      " [ 0  3  0  0  0]\n",
      " [ 0  0  3  0  0]\n",
      " [ 0  0  0 10  1]\n",
      " [ 1  1  3  1 12]]\n",
      "              precision    recall  f1-score   support\n",
      "\n",
      "       drugY       0.83      1.00      0.91         5\n",
      "       drugC       0.75      1.00      0.86         3\n",
      "       drugX       0.50      1.00      0.67         3\n",
      "       drugA       0.91      0.91      0.91        11\n",
      "       drugB       0.92      0.67      0.77        18\n",
      "\n",
      "    accuracy                           0.82        40\n",
      "   macro avg       0.78      0.92      0.82        40\n",
      "weighted avg       0.86      0.82      0.83        40\n",
      "\n"
     ]
    }
   ],
   "source": [
    "#Script for SVM and NB\n",
    "from sklearn.svm import SVC\n",
    "from sklearn.naive_bayes import GaussianNB\n",
    "from sklearn.metrics import classification_report, confusion_matrix  \n",
    "\n",
    "for name,method in [('SVM', SVC(kernel='linear',random_state=100)),\n",
    "                    ('Naive Bayes',GaussianNB())]: \n",
    "    method.fit(x_train2,y_train)\n",
    "    predict = method.predict(x_test2)\n",
    "    target_names=['drugY', 'drugC', 'drugX', 'drugA', 'drugB']\n",
    "    print('\\nEstimator: {}'.format(name)) \n",
    "    print(confusion_matrix(y_test,predict))  \n",
    "    print(classification_report(y_test,predict,target_names=target_names)) "
   ]
  },
  {
   "cell_type": "code",
   "execution_count": null,
   "id": "93831a33-b87b-4189-ad38-f6596ac9cd5a",
   "metadata": {},
   "outputs": [],
   "source": []
  }
 ],
 "metadata": {
  "kernelspec": {
   "display_name": "Python 3 (ipykernel)",
   "language": "python",
   "name": "python3"
  },
  "language_info": {
   "codemirror_mode": {
    "name": "ipython",
    "version": 3
   },
   "file_extension": ".py",
   "mimetype": "text/x-python",
   "name": "python",
   "nbconvert_exporter": "python",
   "pygments_lexer": "ipython3",
   "version": "3.11.7"
  }
 },
 "nbformat": 4,
 "nbformat_minor": 5
}
